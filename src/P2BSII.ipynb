{
 "cells": [
  {
   "cell_type": "markdown",
   "metadata": {},
   "source": [
    "# Punto 2 Búsqueda binaria usando índice invertido (BSII)\n",
    "## Integrantes\n",
    "* Juan Esteban Arboleda\n",
    "* Luccas Rojas"
   ]
  },
  {
   "cell_type": "code",
   "execution_count": 29,
   "metadata": {},
   "outputs": [
    {
     "data": {
      "text/plain": [
       "331"
      ]
     },
     "execution_count": 29,
     "metadata": {},
     "output_type": "execute_result"
    }
   ],
   "source": [
    "import os\n",
    "import sys\n",
    "import unicodedata\n",
    "import sklearn\n",
    "import pandas as pd\n",
    "\n",
    "# Ruta que se debe cambiar segun la ubicacion del archivo, al descomprimir el zip no deberia afectar\n",
    "#  '../data/docs-raw-texts/wes2015.d001.naf'\n",
    "\n",
    "documents_path = '../data/docs-raw-texts'\n",
    "\n",
    "def load_documents(documents_folder_path):\n",
    "    dataframe = []\n",
    "    for filename in os.listdir(documents_folder_path):\n",
    "        document = pd.read_xml(os.path.join(documents_folder_path, filename))['raw']\n",
    "        dataframe.append(document)\n",
    "        #NFKC\n",
    "    return dataframe\n",
    "\n",
    "data = load_documents(documents_path)\n",
    "len(data)"
   ]
  }
 ],
 "metadata": {
  "kernelspec": {
   "display_name": "Python 3",
   "language": "python",
   "name": "python3"
  },
  "language_info": {
   "codemirror_mode": {
    "name": "ipython",
    "version": 3
   },
   "file_extension": ".py",
   "mimetype": "text/x-python",
   "name": "python",
   "nbconvert_exporter": "python",
   "pygments_lexer": "ipython3",
   "version": "3.11.1"
  },
  "orig_nbformat": 4
 },
 "nbformat": 4,
 "nbformat_minor": 2
}
