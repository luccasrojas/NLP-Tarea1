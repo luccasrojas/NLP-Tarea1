{
 "cells": [
  {
   "cell_type": "markdown",
   "metadata": {},
   "source": [
    "# Punto 4 Recuperación ranqueada y vectorización de documentos (RRDV) GENSIM\n",
    "## Integrantes\n",
    "* Juan Esteban Arboleda\n",
    "* Luccas Rojas"
   ]
  },
  {
   "cell_type": "markdown",
   "metadata": {},
   "source": [
    "### 1. Preprocesamiento\n",
    "Lo primero que se llevara a cabo para poder hacer la recuperación ranqueada es la tokenizacion de los documentos y generacion del vocabulario. Ademas es importante tener en cuenta que el vocabulario debe estar ordenado, no debe contener stop-words, debe estar stemizado y normalizado\n",
    "\n",
    "* A continucion se cargan los documentos y los queries en una estructura de datos, se debe cambiar DOCUMENTS_PATH y QUERIES_PATH por la ruta donde se encuentran los documentos y los queries respectivamente\n",
    "* El archivo de salida es guardado en RRDV_RESULTS_FILE_PATH con el formato exigido"
   ]
  },
  {
   "cell_type": "code",
   "execution_count": 14,
   "metadata": {},
   "outputs": [
    {
     "data": {
      "text/html": [
       "<div>\n",
       "<style scoped>\n",
       "    .dataframe tbody tr th:only-of-type {\n",
       "        vertical-align: middle;\n",
       "    }\n",
       "\n",
       "    .dataframe tbody tr th {\n",
       "        vertical-align: top;\n",
       "    }\n",
       "\n",
       "    .dataframe thead th {\n",
       "        text-align: right;\n",
       "    }\n",
       "</style>\n",
       "<table border=\"1\" class=\"dataframe\">\n",
       "  <thead>\n",
       "    <tr style=\"text-align: right;\">\n",
       "      <th></th>\n",
       "      <th>filename</th>\n",
       "      <th>body</th>\n",
       "    </tr>\n",
       "  </thead>\n",
       "  <tbody>\n",
       "    <tr>\n",
       "      <th>1</th>\n",
       "      <td>wes2015.d001.naf</td>\n",
       "      <td>William Beaumont and the Human Digestion.  Wil...</td>\n",
       "    </tr>\n",
       "    <tr>\n",
       "      <th>2</th>\n",
       "      <td>wes2015.d002.naf</td>\n",
       "      <td>Selma Lagerlöf and the wonderful Adventures of...</td>\n",
       "    </tr>\n",
       "    <tr>\n",
       "      <th>3</th>\n",
       "      <td>wes2015.d003.naf</td>\n",
       "      <td>Ferdinand de Lesseps and the Suez Canal.  Ferd...</td>\n",
       "    </tr>\n",
       "    <tr>\n",
       "      <th>4</th>\n",
       "      <td>wes2015.d004.naf</td>\n",
       "      <td>Walt Disney’s ‘Steamboat Willie’ and the Rise ...</td>\n",
       "    </tr>\n",
       "    <tr>\n",
       "      <th>5</th>\n",
       "      <td>wes2015.d005.naf</td>\n",
       "      <td>Eugene Wigner and the Structure of the Atomic ...</td>\n",
       "    </tr>\n",
       "    <tr>\n",
       "      <th>...</th>\n",
       "      <td>...</td>\n",
       "      <td>...</td>\n",
       "    </tr>\n",
       "    <tr>\n",
       "      <th>327</th>\n",
       "      <td>wes2015.d327.naf</td>\n",
       "      <td>James Parkinson and Parkinson’s Disease.  Wood...</td>\n",
       "    </tr>\n",
       "    <tr>\n",
       "      <th>328</th>\n",
       "      <td>wes2015.d328.naf</td>\n",
       "      <td>Juan de la Cierva and the Autogiro.  Demonstra...</td>\n",
       "    </tr>\n",
       "    <tr>\n",
       "      <th>329</th>\n",
       "      <td>wes2015.d329.naf</td>\n",
       "      <td>Squire Whipple – The Father of the Iron Bridge...</td>\n",
       "    </tr>\n",
       "    <tr>\n",
       "      <th>330</th>\n",
       "      <td>wes2015.d330.naf</td>\n",
       "      <td>William Playfair and the Beginnings of Infogra...</td>\n",
       "    </tr>\n",
       "    <tr>\n",
       "      <th>331</th>\n",
       "      <td>wes2015.d331.naf</td>\n",
       "      <td>Juan Bautista de Anza and the Route to San Fra...</td>\n",
       "    </tr>\n",
       "  </tbody>\n",
       "</table>\n",
       "<p>331 rows × 2 columns</p>\n",
       "</div>"
      ],
      "text/plain": [
       "             filename                                               body\n",
       "1    wes2015.d001.naf  William Beaumont and the Human Digestion.  Wil...\n",
       "2    wes2015.d002.naf  Selma Lagerlöf and the wonderful Adventures of...\n",
       "3    wes2015.d003.naf  Ferdinand de Lesseps and the Suez Canal.  Ferd...\n",
       "4    wes2015.d004.naf  Walt Disney’s ‘Steamboat Willie’ and the Rise ...\n",
       "5    wes2015.d005.naf  Eugene Wigner and the Structure of the Atomic ...\n",
       "..                ...                                                ...\n",
       "327  wes2015.d327.naf  James Parkinson and Parkinson’s Disease.  Wood...\n",
       "328  wes2015.d328.naf  Juan de la Cierva and the Autogiro.  Demonstra...\n",
       "329  wes2015.d329.naf  Squire Whipple – The Father of the Iron Bridge...\n",
       "330  wes2015.d330.naf  William Playfair and the Beginnings of Infogra...\n",
       "331  wes2015.d331.naf  Juan Bautista de Anza and the Route to San Fra...\n",
       "\n",
       "[331 rows x 2 columns]"
      ]
     },
     "execution_count": 14,
     "metadata": {},
     "output_type": "execute_result"
    }
   ],
   "source": [
    "import os\n",
    "import pandas as pd\n",
    "import numpy as np\n",
    "import string\n",
    "import nltk\n",
    "from nltk.tokenize import word_tokenize\n",
    "from nltk.corpus import stopwords\n",
    "from nltk.stem import PorterStemmer\n",
    "import math\n",
    "import time\n",
    "from gensim import corpora, models\n",
    "\n",
    "# Rutas a definir segun la ubicacion de los archivos\n",
    "DOCUMENTS_PATH = '../data/docs-raw-texts'\n",
    "QUERIES_PATH = '../data/queries-raw-texts'\n",
    "GENSIM_RESULTS_FILE_PATH = \"../data/GENSIM-consultas_resultados\"\n",
    "RELEVANCE_JUDGMENTS_FILE_PATH = \"../data/relevance-judgments.tsv\"\n",
    "\n",
    "def load_documents(folder_path: str) -> pd.DataFrame:\n",
    "    \"\"\"\n",
    "    Returns a Pandas DataFrame where each row represents a document in folder_path.\n",
    "    The DataFrame will have as many rows as there are documents in folder_path\n",
    "\n",
    "        Parameters\n",
    "        ----------\n",
    "            folder_path: str\n",
    "                The path to the folder that contains the documents to load\n",
    "    \n",
    "        Returns\n",
    "        --------\n",
    "            documents: pd.DataFrame\n",
    "                Pandas DataFrame with two columns: \"filename\" and \"body\"\n",
    "    \"\"\"\n",
    "    documents = []\n",
    "    index = []\n",
    "    id = 1\n",
    "    columns = ['filename', 'body']\n",
    "    for filename in os.listdir(folder_path):\n",
    "        text = pd.read_xml(os.path.join(folder_path, filename))['raw'].tolist()[1]\n",
    "        filtered_text = text.replace('\\n', ' ').replace('\\xa0', ' ')\n",
    "        document = [filename, filtered_text]\n",
    "        documents.append(document)\n",
    "        index.append(id)\n",
    "        id += 1\n",
    "\n",
    "    return pd.DataFrame(documents, index, columns)\n",
    "\n",
    "documents = load_documents(DOCUMENTS_PATH)\n",
    "queries = load_documents(QUERIES_PATH)\n",
    "\n",
    "documents"
   ]
  },
  {
   "cell_type": "markdown",
   "metadata": {},
   "source": [
    "Primero que todo tokenizamos el texto, para esto utilizamos el word tokenize de la libreria NLTK"
   ]
  },
  {
   "cell_type": "code",
   "execution_count": 15,
   "metadata": {},
   "outputs": [
    {
     "name": "stderr",
     "output_type": "stream",
     "text": [
      "[nltk_data] Downloading package punkt to\n",
      "[nltk_data]     C:\\Users\\juanc\\AppData\\Roaming\\nltk_data...\n",
      "[nltk_data]   Package punkt is already up-to-date!\n",
      "[nltk_data] Downloading package stopwords to\n",
      "[nltk_data]     C:\\Users\\juanc\\AppData\\Roaming\\nltk_data...\n",
      "[nltk_data]   Package stopwords is already up-to-date!\n"
     ]
    }
   ],
   "source": [
    "nltk.download('punkt')\n",
    "nltk.download('stopwords')\n",
    "\n",
    "documents['tokens'] = documents['body'].apply(word_tokenize)\n",
    "queries['tokens'] = queries['body'].apply(word_tokenize)"
   ]
  },
  {
   "cell_type": "markdown",
   "metadata": {},
   "source": [
    "Removemos todos los signos de puntuacion, contracciones del ingles y dejamos el texto todo en minusculas (normalizar) "
   ]
  },
  {
   "cell_type": "code",
   "execution_count": 16,
   "metadata": {},
   "outputs": [],
   "source": [
    "def remove_punctuation(token_list):\n",
    "    return [token.lower() for token in token_list if (token not in string.punctuation and (len(token)>1 or token.isnumeric()))]\n",
    "\n",
    "documents['tokens']=documents['tokens'].apply(lambda x: remove_punctuation(x))\n",
    "queries['tokens']=queries['tokens'].apply(lambda x: remove_punctuation(x))"
   ]
  },
  {
   "cell_type": "markdown",
   "metadata": {},
   "source": [
    "Luego de tokenizar, dejar todo en minusculas, quitaremos las stop words para que reduzcan el vocabulario y no afecten el resultado final. Para esto usaremos la libreria nltk y su metodo stopwords.words('english')."
   ]
  },
  {
   "cell_type": "code",
   "execution_count": 17,
   "metadata": {},
   "outputs": [],
   "source": [
    "stop_words = set(stopwords.words('english'))\n",
    "\n",
    "#TODO no se si normalizar cuente como poner todo en minusculas\n",
    "def remove_stop_words(token_list):\n",
    "    return [token for token in token_list if token not in stop_words]\n",
    "\n",
    "documents['tokens']=documents['tokens'].apply(lambda x: remove_stop_words(x))\n",
    "queries['tokens']=queries['tokens'].apply(lambda x: remove_stop_words(x))"
   ]
  },
  {
   "cell_type": "markdown",
   "metadata": {},
   "source": [
    "Luego de eliminar las stop words se hace stemming a las palabras restantes."
   ]
  },
  {
   "cell_type": "code",
   "execution_count": 18,
   "metadata": {},
   "outputs": [],
   "source": [
    "stemmer = PorterStemmer()\n",
    "def stemming(token_list):\n",
    "    return [stemmer.stem(token) for token in token_list]\n",
    "\n",
    "documents['tokens']=documents['tokens'].apply(lambda x: stemming(x))\n",
    "queries['tokens']=queries['tokens'].apply(lambda x: stemming(x))"
   ]
  },
  {
   "cell_type": "markdown",
   "metadata": {},
   "source": [
    "En este punto el texto de cada documento y query esta en un formato mas facil de procesar, por lo que se procede a realizar la representacion vectorial de los documentos y queries."
   ]
  },
  {
   "cell_type": "markdown",
   "metadata": {},
   "source": [
    "## 2. Representación de los datos"
   ]
  },
  {
   "cell_type": "markdown",
   "metadata": {},
   "source": [
    "Primero se crea un diccionario y el corpus"
   ]
  },
  {
   "cell_type": "code",
   "execution_count": 19,
   "metadata": {},
   "outputs": [],
   "source": [
    "dictionary = corpora.Dictionary(documents[\"tokens\"])\n",
    "corpus = [dictionary.doc2bow(text) for text in documents[\"tokens\"]]"
   ]
  },
  {
   "cell_type": "markdown",
   "metadata": {},
   "source": [
    "Se crea el modelo TF-IDF a partor del corpus"
   ]
  },
  {
   "cell_type": "code",
   "execution_count": 20,
   "metadata": {},
   "outputs": [],
   "source": [
    "tfidf = models.TfidfModel(corpus)"
   ]
  },
  {
   "cell_type": "markdown",
   "metadata": {},
   "source": [
    "Se calcula el tf-idf para el corpus"
   ]
  },
  {
   "cell_type": "code",
   "execution_count": 21,
   "metadata": {},
   "outputs": [],
   "source": [
    "corpus_tfidf = tfidf[corpus]"
   ]
  },
  {
   "cell_type": "markdown",
   "metadata": {},
   "source": [
    "Se crea la matriz de similitudes, con respecto a la cual se puede consultar la similitud de un documento con respecto a todos los documentos del corpus"
   ]
  },
  {
   "cell_type": "code",
   "execution_count": 22,
   "metadata": {},
   "outputs": [],
   "source": [
    "from gensim import similarities\n",
    "index = similarities.MatrixSimilarity(corpus_tfidf)"
   ]
  },
  {
   "cell_type": "markdown",
   "metadata": {},
   "source": [
    "# 3. Evaluación"
   ]
  },
  {
   "cell_type": "markdown",
   "metadata": {},
   "source": [
    "Se realiza la similitud coseno entre las consultas y el corpus y se escribe el archivo de resultados"
   ]
  },
  {
   "cell_type": "code",
   "execution_count": 23,
   "metadata": {},
   "outputs": [],
   "source": [
    "# Clear output file contents\n",
    "open(GENSIM_RESULTS_FILE_PATH, \"w\").close()\n",
    "file = open(GENSIM_RESULTS_FILE_PATH, \"a\")\n",
    "\n",
    "# This dictionary will be used to evaluate metrics\n",
    "ret_docs = {}\n",
    "\n",
    "# Loop through queries\n",
    "for i, query in queries.iterrows():\n",
    "    # Open output file\n",
    "    query_str = query['filename'].replace('.naf', '').replace('wes2015.', '')\n",
    "    file.write(query_str + \" \")\n",
    "\n",
    "    # Perform cosine similarity between corpus ans query\n",
    "    query_bow = dictionary.doc2bow(query[\"tokens\"])\n",
    "    query_tfidf = tfidf[query_bow]\n",
    "    sims = index[query_tfidf]\n",
    "    sims = sorted(enumerate(sims, start=1), key=lambda item: item[1], reverse=True)\n",
    "\n",
    "    ret_docs[query_str] = []\n",
    "\n",
    "    # Write output file\n",
    "    doc_counter = 0\n",
    "    for docId, sim in sims:\n",
    "        if(sim > 0):\n",
    "            if docId < 10:\n",
    "                doc_str = \"d00\" + str(docId)\n",
    "            elif docId < 100:\n",
    "                doc_str = \"d0\" + str(docId)\n",
    "            else:\n",
    "                doc_str = \"d\" + str(docId)\n",
    "            file.write(doc_str + \":\" + str(sim))\n",
    "            if i != len(sims):\n",
    "                file.write(\",\")\n",
    "        # Add document to ret_docs\n",
    "        ret_docs[query_str].append(doc_str + \":\" + str(sim))\n",
    "        doc_counter += 1\n",
    "    \n",
    "    if i != queries.shape[0]:\n",
    "        file.write(\"\\n\")\n",
    "\n",
    "file.close()"
   ]
  },
  {
   "cell_type": "markdown",
   "metadata": {},
   "source": [
    "# 4. Métricas"
   ]
  },
  {
   "cell_type": "markdown",
   "metadata": {},
   "source": [
    "## Definición de las funciones para evaluar las métricas\n",
    "Éstas son las mismas funciones definidas en el punto 1"
   ]
  },
  {
   "cell_type": "code",
   "execution_count": 24,
   "metadata": {},
   "outputs": [],
   "source": [
    "def precision(relevance: list) -> float:\n",
    "    \"\"\"\n",
    "    Returns the precision of a query result.\n",
    "\n",
    "        Params\n",
    "        ------\n",
    "            relevance: list\n",
    "                A binary vector. The kth element of the vector\n",
    "                represent if the kth returned document is relevant\n",
    "                to the query. 1 represent that it is relevant. 0\n",
    "                represent that it is not.\n",
    "    \"\"\"\n",
    "    relevance = np.array(relevance)\n",
    "    num = np.sum(relevance)\n",
    "    den = len(relevance)\n",
    "\n",
    "    return num / den\n",
    "\n",
    "def precision_at_k(relevance: list, k: int) -> float:\n",
    "    \"\"\"\n",
    "    Returns the precision @ k of a query result.\n",
    "\n",
    "        Params\n",
    "        ------\n",
    "            relevance: list\n",
    "                A binary vector. The kth element of the vector\n",
    "                represent if the kth returned document is relevant\n",
    "                to the query. 1 represent that it is relevant. 0\n",
    "                represent that it is not.\n",
    "\n",
    "            k: int\n",
    "                Position untill which the metric should be evaluated.\n",
    "    \"\"\"\n",
    "    relevance = relevance[:k]\n",
    "    \n",
    "    return precision(relevance)\n",
    "\n",
    "def recall_at_k(relevance: list, n_relevant_docs, k):\n",
    "    \"\"\"\n",
    "    Returns the Recall @ k of a query result result.\n",
    "\n",
    "        Params\n",
    "        ------\n",
    "            relevance: list\n",
    "                A binary vector. The kth element of the vector\n",
    "                represent if the kth returned document is relevant\n",
    "                to the query. 1 represent that it is relevant. 0\n",
    "                represent that it is not.\n",
    "            \n",
    "            n_relevant_docts: int\n",
    "                The number of relevant documents to the query.\n",
    "\n",
    "            k: int\n",
    "                Position untill which the metric should be evaluated.\n",
    "    \"\"\"\n",
    "    relevance = np.array(relevance)\n",
    "    relevance = relevance[:k]\n",
    "\n",
    "    num = np.sum(relevance)\n",
    "    den = n_relevant_docs\n",
    "\n",
    "    return num / den\n",
    "\n",
    "def average_precision(relevance: list) -> float:\n",
    "    \"\"\"\n",
    "    Returns the average precision of a query result\n",
    "\n",
    "        Params\n",
    "        ------\n",
    "            relevance: list\n",
    "                A binary vector. The kth element of the vector\n",
    "                represent if the kth returned document is relevant\n",
    "                to the query. 1 represent that it is relevant. 0\n",
    "                represent that it is not.\n",
    "                The relevance list MUST contain all the relevant documents.\n",
    "    \"\"\"\n",
    "\n",
    "    k = 1\n",
    "    n_relevant_documents = np.sum(relevance)\n",
    "    current_rel_documents = 0\n",
    "    current_p_at_k_sum = 0\n",
    "    rec_at_k = 0\n",
    "    while rec_at_k < 1:\n",
    "        if relevance[k-1] == 1:\n",
    "            current_rel_documents += 1\n",
    "            current_p_at_k_sum += precision_at_k(relevance, k)\n",
    "        \n",
    "        rec_at_k = recall_at_k(relevance, n_relevant_documents, k)\n",
    "        k += 1\n",
    "\n",
    "    return current_p_at_k_sum / current_rel_documents\n",
    "\n",
    "def dcg_i(relevance: list, i: int) -> float:\n",
    "    \"\"\"\n",
    "    Returns the DCG_i. i.e. relevance_i / log2(max(i,2))\n",
    "\n",
    "    Params\n",
    "        ------\n",
    "            relevance: list\n",
    "                A numeric vector where the kth component of the vector\n",
    "                represents the relevance of the kth returned document.\n",
    "    \"\"\"\n",
    "    return relevance[i - 1] / math.log2(max(i,2))\n",
    "\n",
    "\n",
    "def dcg_at_k(relevance: list, k: int) -> float:\n",
    "    \"\"\"\n",
    "    Returns the DCG @ k of a query result.\n",
    "\n",
    "        Params\n",
    "        ------\n",
    "            relevance: list\n",
    "                A numeric vector where the kth component of the vector\n",
    "                represents the relevance of the kth returned document.\n",
    "\n",
    "            k: int\n",
    "                Position untill which the metric should be evaluated.     \n",
    "    \"\"\"\n",
    "    relevance = np.array(relevance)\n",
    "    cr_sum = 0\n",
    "    for i in range(1, k+1):\n",
    "        cr_sum += dcg_i(relevance, i)\n",
    "\n",
    "    return cr_sum\n",
    "\n",
    "def ndcg_at_k(relevance: list, k: int) -> float:\n",
    "    \"\"\"\n",
    "    Returns normalized DCG @ k of a query result.\n",
    "\n",
    "        Params\n",
    "        ------\n",
    "            relevance: list\n",
    "                A numeric vector where the kth component of the vector\n",
    "                represents the relevance of the kth returned document.\n",
    "\n",
    "            k: int\n",
    "                Position untill which the metric should be evaluated.  \n",
    "    \"\"\"\n",
    "    ordered_relevance = relevance.copy()\n",
    "    ordered_relevance.sort(reverse=True)\n",
    "\n",
    "    cr_sum1 = 0\n",
    "    cr_sum2 = 0\n",
    "\n",
    "    for i in range(1, k+1):\n",
    "        cr_sum1 += dcg_i(relevance, i)\n",
    "        cr_sum2 += dcg_i(ordered_relevance, i)\n",
    "\n",
    "    return cr_sum1 / cr_sum2"
   ]
  },
  {
   "cell_type": "markdown",
   "metadata": {},
   "source": [
    "## Evaluación de métricas"
   ]
  },
  {
   "cell_type": "code",
   "execution_count": 25,
   "metadata": {},
   "outputs": [
    {
     "name": "stdout",
     "output_type": "stream",
     "text": [
      "q01: P@M: 0.3333333333333333 , R@M: 0.3333333333333333 , AP: 0.7000000000000001 , NDCG@M 0.3992424290497487 ,\n",
      "q02: P@M: 0.6363636363636364 , R@M: 0.6363636363636364 , AP: 0.6945822717951905 , NDCG@M 0.6349580497567974 ,\n",
      "q03: P@M: 1.0 , R@M: 1.0 , AP: 1.0 , NDCG@M 0.9846288354276679 ,\n",
      "q04: P@M: 0.7142857142857143 , R@M: 0.7142857142857143 , AP: 0.88015873015873 , NDCG@M 0.7752886293631626 ,\n",
      "q06: P@M: 0.6666666666666666 , R@M: 0.6666666666666666 , AP: 0.8551587301587301 , NDCG@M 0.8053569325627968 ,\n",
      "q07: P@M: 0.25 , R@M: 0.25 , AP: 0.171166810097533 , NDCG@M 0.26064801430716 ,\n",
      "q08: P@M: 0.6666666666666666 , R@M: 0.6666666666666666 , AP: 0.7673562480547774 , NDCG@M 0.7499297796797687 ,\n",
      "q09: P@M: 0.8333333333333334 , R@M: 0.8333333333333334 , AP: 0.9333333333333332 , NDCG@M 0.8878789582207093 ,\n",
      "q10: P@M: 0.375 , R@M: 0.375 , AP: 0.3014415691835046 , NDCG@M 0.4068426451633921 ,\n",
      "q12: P@M: 1.0 , R@M: 1.0 , AP: 1.0 , NDCG@M 0.9584155285560207 ,\n",
      "q13: P@M: 0.8 , R@M: 0.8 , AP: 0.7433333333333334 , NDCG@M 0.7178291029624357 ,\n",
      "q14: P@M: 0.5833333333333334 , R@M: 0.5833333333333334 , AP: 0.47848382142596524 , NDCG@M 0.4848285378992968 ,\n",
      "q16: P@M: 0.5 , R@M: 0.5 , AP: 0.3611111111111111 , NDCG@M 0.6 ,\n",
      "q17: P@M: 0.5 , R@M: 0.5 , AP: 0.4446787148594377 , NDCG@M 0.7043638493171505 ,\n",
      "q18: P@M: 0.7142857142857143 , R@M: 0.7142857142857143 , AP: 0.8145408163265306 , NDCG@M 0.8553382180433093 ,\n",
      "q19: P@M: 0.5 , R@M: 0.5 , AP: 0.5030120481927711 , NDCG@M 1.0 ,\n",
      "q22: P@M: 0.5714285714285714 , R@M: 0.5714285714285714 , AP: 0.5075175782072334 , NDCG@M 0.5271682741397163 ,\n",
      "q23: P@M: 0.25 , R@M: 0.25 , AP: 0.2882987587917416 , NDCG@M 0.6037460821441866 ,\n",
      "q24: P@M: 0.0 , R@M: 0.0 , AP: 0.08903675856307434 , NDCG@M 0.0 ,\n",
      "q25: P@M: 0.5 , R@M: 0.5 , AP: 0.75 , NDCG@M 0.674703945420833 ,\n",
      "q26: P@M: 1.0 , R@M: 1.0 , AP: 1.0 , NDCG@M 1.0 ,\n",
      "q27: P@M: 0.375 , R@M: 0.375 , AP: 0.47282989282669585 , NDCG@M 0.6514571054222527 ,\n",
      "q28: P@M: 0.6666666666666666 , R@M: 0.6666666666666666 , AP: 0.75 , NDCG@M 0.8086698088039842 ,\n",
      "q29: P@M: 0.8333333333333334 , R@M: 0.8333333333333334 , AP: 0.816875158290821 , NDCG@M 0.9754371553063427 ,\n",
      "q32: P@M: 1.0 , R@M: 1.0 , AP: 1.0 , NDCG@M 1.0 ,\n",
      "q34: P@M: 1.0 , R@M: 1.0 , AP: 1.0 , NDCG@M 1.0 ,\n",
      "q36: P@M: 0.9 , R@M: 0.9 , AP: 0.9503174603174603 , NDCG@M 0.9109272809916451 ,\n",
      "q37: P@M: 0.6666666666666666 , R@M: 0.6666666666666666 , AP: 0.6696787148594378 , NDCG@M 1.0 ,\n",
      "q38: P@M: 0.375 , R@M: 0.375 , AP: 0.3057335434173669 , NDCG@M 0.3156248866153721 ,\n",
      "q40: P@M: 0.6666666666666666 , R@M: 0.6666666666666666 , AP: 0.671151996151996 , NDCG@M 0.5379994380666446 ,\n",
      "q41: P@M: 0.8571428571428571 , R@M: 0.8571428571428571 , AP: 0.8601549053356282 , NDCG@M 0.92301101063515 ,\n",
      "q42: P@M: 0.3333333333333333 , R@M: 0.3333333333333333 , AP: 0.47391304347826085 , NDCG@M 0.6051906348295047 ,\n",
      "q44: P@M: 0.5 , R@M: 0.5 , AP: 0.5560056801436112 , NDCG@M 0.5646667915276513 ,\n",
      "q45: P@M: 0.875 , R@M: 0.875 , AP: 0.8477678571428571 , NDCG@M 0.8744745726663182 ,\n",
      "q46: P@M: 0.3333333333333333 , R@M: 0.3333333333333333 , AP: 0.26186868686868686 , NDCG@M 0.2821110175052281 ,\n",
      "MAP: 0.6548430734978804\n"
     ]
    }
   ],
   "source": [
    "rj_file = open(RELEVANCE_JUDGMENTS_FILE_PATH, \"r\")\n",
    "rj_lines = rj_file.readlines()\n",
    "\n",
    "results = {}\n",
    "\n",
    "for rj in rj_lines:\n",
    "    # continue if reading an empty line\n",
    "    if rj == \"\":\n",
    "        continue\n",
    "    \n",
    "    temp = rj.strip().split()\n",
    "\n",
    "    query_str = temp[0]\n",
    "    relevant_docs_lst = temp[1].split(\",\")\n",
    "    relevant_docs = {}\n",
    "    returned_docs = [doc.split(\":\")[0] for doc in  ret_docs[query_str]]\n",
    "\n",
    "    for doc in relevant_docs_lst:\n",
    "        temp2 = doc.split(\":\")\n",
    "        relevant_docs[temp2[0]] = float(temp2[1])\n",
    "\n",
    "\n",
    "    n_relevant_docs = 0\n",
    "    bin_relevance = []\n",
    "    num_relevance = []\n",
    "    \n",
    "    i = 0\n",
    "    while n_relevant_docs < len(relevant_docs):\n",
    "        if i < len(returned_docs):\n",
    "            ret_doc = returned_docs[i]\n",
    "            if ret_doc in relevant_docs:\n",
    "                bin_relevance.append(1)\n",
    "                num_relevance.append(relevant_docs[ret_doc])\n",
    "                n_relevant_docs += 1\n",
    "            else:\n",
    "                bin_relevance.append(0)\n",
    "                num_relevance.append(0)\n",
    "        else:\n",
    "            bin_relevance.append(1)\n",
    "            n_relevant_docs += 1\n",
    "        \n",
    "        i += 1\n",
    "\n",
    "    results[query_str] = {\n",
    "        \"P@M\": precision_at_k(bin_relevance, len(relevant_docs)),\n",
    "        \"R@M\": recall_at_k(bin_relevance, len(relevant_docs), len(relevant_docs)),\n",
    "        \"AP\": average_precision(bin_relevance),\n",
    "        \"NDCG@M\": ndcg_at_k(num_relevance, len(relevant_docs))\n",
    "    }\n",
    "\n",
    "\n",
    "# Print results and calculate map\n",
    "ap_sum = 0\n",
    "for q_id in results:\n",
    "    result = results[q_id]\n",
    "    print(str(q_id) + \":\",\n",
    "          \"P@M:\", result[\"P@M\"], \",\",\n",
    "          \"R@M:\", result[\"R@M\"], \",\",\n",
    "          \"AP:\", result[\"AP\"],\",\",\n",
    "          \"NDCG@M\", result[\"NDCG@M\"])\n",
    "    \n",
    "    ap_sum += result[\"AP\"]\n",
    "        \n",
    "mean_average_presition = ap_sum / len(results)\n",
    "print(\"MAP:\", mean_average_presition)"
   ]
  }
 ],
 "metadata": {
  "kernelspec": {
   "display_name": "Python 3",
   "language": "python",
   "name": "python3"
  },
  "language_info": {
   "codemirror_mode": {
    "name": "ipython",
    "version": 3
   },
   "file_extension": ".py",
   "mimetype": "text/x-python",
   "name": "python",
   "nbconvert_exporter": "python",
   "pygments_lexer": "ipython3",
   "version": "3.11.4"
  },
  "orig_nbformat": 4
 },
 "nbformat": 4,
 "nbformat_minor": 2
}
