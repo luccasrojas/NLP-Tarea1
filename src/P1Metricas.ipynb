{
 "cells": [
  {
   "cell_type": "markdown",
   "metadata": {},
   "source": [
    "# Punto 1 Metricas de evaluacion de IR\n",
    "## Integrantes\n",
    "* Juan Esteban Arboleda\n",
    "* Luccas Rojas"
   ]
  },
  {
   "cell_type": "markdown",
   "metadata": {},
   "source": [
    "A continuación, se implementan las métricas de evaluación"
   ]
  },
  {
   "cell_type": "markdown",
   "metadata": {},
   "source": [
    "# Importación de librarías"
   ]
  },
  {
   "cell_type": "code",
   "execution_count": 2,
   "metadata": {},
   "outputs": [],
   "source": [
    "import numpy as np\n",
    "import math"
   ]
  },
  {
   "cell_type": "markdown",
   "metadata": {},
   "source": [
    "# Precisión"
   ]
  },
  {
   "cell_type": "code",
   "execution_count": 3,
   "metadata": {},
   "outputs": [
    {
     "data": {
      "text/plain": [
       "0.25"
      ]
     },
     "execution_count": 3,
     "metadata": {},
     "output_type": "execute_result"
    }
   ],
   "source": [
    "def presition(relevance: list) -> float:\n",
    "    \"\"\"\n",
    "    Returns the presition of a query result.\n",
    "\n",
    "        Params\n",
    "        ------\n",
    "            relevance: list\n",
    "                A binary vector. The kth element of the vector\n",
    "                represent if the kth returned document is relevant\n",
    "                to the query. 1 represent that it is relevant. 0\n",
    "                represent that it is not.\n",
    "    \"\"\"\n",
    "    relevance = np.array(relevance)\n",
    "    num = np.sum(relevance)\n",
    "    den = len(relevance)\n",
    "\n",
    "    return num / den\n",
    "\n",
    "presition([0,0,0,1])"
   ]
  },
  {
   "cell_type": "markdown",
   "metadata": {},
   "source": [
    "# Presición @ k"
   ]
  },
  {
   "cell_type": "code",
   "execution_count": 4,
   "metadata": {},
   "outputs": [
    {
     "data": {
      "text/plain": [
       "0.0"
      ]
     },
     "execution_count": 4,
     "metadata": {},
     "output_type": "execute_result"
    }
   ],
   "source": [
    "def presition_at_k(relevance: list, k: int) -> float:\n",
    "    \"\"\"\n",
    "    Returns the presition @ k of a query result.\n",
    "\n",
    "        Params\n",
    "        ------\n",
    "            relevance: list\n",
    "                A binary vector. The kth element of the vector\n",
    "                represent if the kth returned document is relevant\n",
    "                to the query. 1 represent that it is relevant. 0\n",
    "                represent that it is not.\n",
    "\n",
    "            k: int\n",
    "                Position untill which the metric should be evaluated.\n",
    "    \"\"\"\n",
    "    relevance = relevance[:k]\n",
    "    \n",
    "    return presition(relevance)\n",
    "\n",
    "presition_at_k([0,0,0,1], 1)"
   ]
  },
  {
   "cell_type": "markdown",
   "metadata": {},
   "source": [
    "# Recall @ K"
   ]
  },
  {
   "cell_type": "code",
   "execution_count": 5,
   "metadata": {},
   "outputs": [
    {
     "data": {
      "text/plain": [
       "0.0"
      ]
     },
     "execution_count": 5,
     "metadata": {},
     "output_type": "execute_result"
    }
   ],
   "source": [
    "def recall_at_k(relevance: list, n_relevant_docs, k):\n",
    "    \"\"\"\n",
    "    Returns the Recall @ k of a query result result.\n",
    "\n",
    "        Params\n",
    "        ------\n",
    "            relevance: list\n",
    "                A binary vector. The kth element of the vector\n",
    "                represent if the kth returned document is relevant\n",
    "                to the query. 1 represent that it is relevant. 0\n",
    "                represent that it is not.\n",
    "            \n",
    "            n_relevant_docts: int\n",
    "                The number of relevant documents to the query.\n",
    "\n",
    "            k: int\n",
    "                Position untill which the metric should be evaluated.\n",
    "    \"\"\"\n",
    "    relevance = np.array(relevance)\n",
    "    relevance = relevance[:k]\n",
    "\n",
    "    num = np.sum(relevance)\n",
    "    den = n_relevant_docs\n",
    "\n",
    "    return num / den\n",
    "\n",
    "recall_at_k([0,0,0,1], 4, 1)"
   ]
  },
  {
   "cell_type": "markdown",
   "metadata": {},
   "source": [
    "# Average presition"
   ]
  },
  {
   "cell_type": "code",
   "execution_count": 6,
   "metadata": {},
   "outputs": [
    {
     "data": {
      "text/plain": [
       "0.5961904761904762"
      ]
     },
     "execution_count": 6,
     "metadata": {},
     "output_type": "execute_result"
    }
   ],
   "source": [
    "def average_presition(relevance: list) -> float:\n",
    "    \"\"\"\n",
    "    Returns the average presition of a query result\n",
    "\n",
    "        Params\n",
    "        ------\n",
    "            relevance: list\n",
    "                A binary vector. The kth element of the vector\n",
    "                represent if the kth returned document is relevant\n",
    "                to the query. 1 represent that it is relevant. 0\n",
    "                represent that it is not.\n",
    "                The relevance list MUST contain all the relevant documents.\n",
    "    \"\"\"\n",
    "\n",
    "    k = 1\n",
    "    n_relevant_documents = np.sum(relevance)\n",
    "    current_rel_documents = 0\n",
    "    current_p_at_k_sum = 0\n",
    "    rec_at_k = 0\n",
    "    while rec_at_k < 1:\n",
    "        if relevance[k-1] == 1:\n",
    "            current_rel_documents += 1\n",
    "            current_p_at_k_sum += presition_at_k(relevance, k)\n",
    "        \n",
    "        rec_at_k = recall_at_k(relevance, n_relevant_documents, k)\n",
    "        k += 1\n",
    "\n",
    "    return current_p_at_k_sum / current_rel_documents\n",
    "\n",
    "average_presition([0,1,0,1,1,1,1])"
   ]
  },
  {
   "cell_type": "markdown",
   "metadata": {},
   "source": [
    "# MAP"
   ]
  },
  {
   "cell_type": "code",
   "execution_count": 7,
   "metadata": {},
   "outputs": [],
   "source": [
    "def mean_average_presition(relevances_lst: list) -> float:\n",
    "    \"\"\"\n",
    "    Returns the mean average presition of a series of query results.\n",
    "\n",
    "        Params\n",
    "        ------\n",
    "            relevances_lst: list\n",
    "                A list of binary vectors. Each vector represents a query \n",
    "                result. The kth element of a vector represent if the kth\n",
    "                returned document is relevant to its query. 1 represent \n",
    "                that it is relevant. 0 represent that it is not. Each\n",
    "                vector MUST contain all the relevant documents to its \n",
    "                query.\n",
    "    \"\"\"\n",
    "    average_presition_sum = 0\n",
    "    n = len(relevances_lst)\n",
    "    for relevance in relevances_lst:\n",
    "        average_presition_sum += average_presition(relevance)\n",
    "\n",
    "    return average_presition_sum / n"
   ]
  },
  {
   "cell_type": "markdown",
   "metadata": {},
   "source": [
    "# DCG @ K"
   ]
  },
  {
   "cell_type": "code",
   "execution_count": 10,
   "metadata": {},
   "outputs": [
    {
     "data": {
      "text/plain": [
       "10.279642067948915"
      ]
     },
     "execution_count": 10,
     "metadata": {},
     "output_type": "execute_result"
    }
   ],
   "source": [
    "def dcg_i(relevance: list, i: int) -> float:\n",
    "    \"\"\"\n",
    "    Returns the DCG_i. i.e. relevance_i / log2(max(i,2))\n",
    "\n",
    "    Params\n",
    "        ------\n",
    "            relevance: list\n",
    "                A numeric vector where the kth component of the vector\n",
    "                represents the relevance of the kth returned document.\n",
    "    \"\"\"\n",
    "    return relevance[i - 1] / math.log2(max(i,2))\n",
    "\n",
    "\n",
    "def dcg_at_k(relevance: list, k: int) -> float:\n",
    "    \"\"\"\n",
    "    Returns the DCG @ k of a query result.\n",
    "\n",
    "        Params\n",
    "        ------\n",
    "            relevance: list\n",
    "                A numeric vector where the kth component of the vector\n",
    "                represents the relevance of the kth returned document.\n",
    "\n",
    "            k: int\n",
    "                Position untill which the metric should be evaluated.     \n",
    "    \"\"\"\n",
    "    relevance = np.array(relevance)\n",
    "    cr_sum = 0\n",
    "    for i in range(1, k+1):\n",
    "        cr_sum += dcg_i(relevance, i)\n",
    "\n",
    "    return cr_sum\n",
    "\n",
    "dcg_at_k([4,4,3,0,0,1,3,3,3,0], 6)"
   ]
  },
  {
   "cell_type": "markdown",
   "metadata": {},
   "source": [
    "# NDCG"
   ]
  },
  {
   "cell_type": "code",
   "execution_count": 9,
   "metadata": {},
   "outputs": [
    {
     "data": {
      "text/plain": [
       "0.7424602308163405"
      ]
     },
     "execution_count": 9,
     "metadata": {},
     "output_type": "execute_result"
    }
   ],
   "source": [
    "def ndcg_at_k(relevance: list, k: int) -> float:\n",
    "    \"\"\"\n",
    "    Returns normalized DCG @ k of a query result.\n",
    "\n",
    "        Params\n",
    "        ------\n",
    "            relevance: list\n",
    "                A numeric vector where the kth component of the vector\n",
    "                represents the relevance of the kth returned document.\n",
    "\n",
    "            k: int\n",
    "                Position untill which the metric should be evaluated.  \n",
    "    \"\"\"\n",
    "    ordered_relevance = relevance.copy()\n",
    "    ordered_relevance.sort(reverse=True)\n",
    "\n",
    "    cr_sum1 = 0\n",
    "    cr_sum2 = 0\n",
    "\n",
    "    for i in range(1, k+1):\n",
    "        cr_sum1 += dcg_i(relevance, i)\n",
    "        cr_sum2 += dcg_i(ordered_relevance, i)\n",
    "\n",
    "    return cr_sum1 / cr_sum2\n",
    "        \n",
    "\n",
    "ndcg_at_k([4,4,3,0,0,1,3,3,3,0], 6)"
   ]
  }
 ],
 "metadata": {
  "kernelspec": {
   "display_name": "base",
   "language": "python",
   "name": "python3"
  },
  "language_info": {
   "codemirror_mode": {
    "name": "ipython",
    "version": 3
   },
   "file_extension": ".py",
   "mimetype": "text/x-python",
   "name": "python",
   "nbconvert_exporter": "python",
   "pygments_lexer": "ipython3",
   "version": "3.11.4"
  },
  "orig_nbformat": 4
 },
 "nbformat": 4,
 "nbformat_minor": 2
}
